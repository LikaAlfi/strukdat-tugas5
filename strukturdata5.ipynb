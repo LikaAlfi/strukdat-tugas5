{
  "nbformat": 4,
  "nbformat_minor": 0,
  "metadata": {
    "colab": {
      "provenance": [],
      "authorship_tag": "ABX9TyOcDLqB5l6GlLJ7D9huCCFQ",
      "include_colab_link": true
    },
    "kernelspec": {
      "name": "python3",
      "display_name": "Python 3"
    },
    "language_info": {
      "name": "python"
    }
  },
  "cells": [
    {
      "cell_type": "markdown",
      "metadata": {
        "id": "view-in-github",
        "colab_type": "text"
      },
      "source": [
        "<a href=\"https://colab.research.google.com/github/LikaAlfi/strukdat-tugas5/blob/main/strukturdata5.ipynb\" target=\"_parent\"><img src=\"https://colab.research.google.com/assets/colab-badge.svg\" alt=\"Open In Colab\"/></a>"
      ]
    },
    {
      "cell_type": "code",
      "execution_count": null,
      "metadata": {
        "colab": {
          "base_uri": "https://localhost:8080/"
        },
        "id": "40sSVUNpOsSZ",
        "outputId": "7c068083-9a4f-461d-cbfd-f216576f1b9c"
      },
      "outputs": [
        {
          "output_type": "stream",
          "name": "stdout",
          "text": [
            "Masukkan 3 digit terakhir NPM Anda: 010\n",
            "Elemen ditemukan pada indeks 5\n"
          ]
        }
      ],
      "source": [
        "def linear_search(arr, target):\n",
        "  for i in range(len(arr)):\n",
        "    if arr[i] == target:\n",
        "      return i\n",
        "  return -1\n",
        "\n",
        "# Gantilah dengan angka acak dan NPM Anda\n",
        "arr = [12, 45, 78, 23, 56, 10, 34, 67, 90, 11]\n",
        "target = int(input (\"Masukkan 3 digit terakhir NPM Anda: \"))\n",
        "\n",
        "result = linear_search(arr, target)\n",
        "if result != -1:\n",
        "  print (f\"Elemen ditemukan pada indeks {result}\")\n",
        "else:\n",
        "  print(\"Elemen tidak ditemukan\")"
      ]
    },
    {
      "cell_type": "code",
      "source": [
        "def binary_search(arr, target):\n",
        "  low = 0\n",
        "  high = len(arr) - 1\n",
        "\n",
        "  while low <= high:\n",
        "    mid = (low + high) // 2\n",
        "    if arr[mid] == target:\n",
        "      return mid\n",
        "    elif arr[mid] < target:\n",
        "      low = mid + 1\n",
        "    else:\n",
        "      high = mid - 1\n",
        "\n",
        "  return -1\n",
        "\n",
        "# gantilah dengan angka terurut dan tanggal lahir anda(DDMM)\n",
        "arr = [1010, 1202, 1405, 304, 2508, 3009, 3011, 2412]\n",
        "target = int(input(\"Masukkan tanggal lahir Anda (DDMM): \"))\n",
        "\n",
        "result = binary_search(arr, target)\n",
        "\n",
        "if result != -1:\n",
        "  print(f\"Elemen ditemukan pada indeks {result}\")\n",
        "else:\n",
        "  print(\"Elemen tidak ditemukan\")"
      ],
      "metadata": {
        "colab": {
          "base_uri": "https://localhost:8080/"
        },
        "id": "cgPitz_HR7iS",
        "outputId": "797f0b23-759d-427c-a2a4-f7badc198ba2"
      },
      "execution_count": null,
      "outputs": [
        {
          "output_type": "stream",
          "name": "stdout",
          "text": [
            "Masukkan tanggal lahir Anda (DDMM): 0304\n",
            "Elemen ditemukan pada indeks 3\n"
          ]
        }
      ]
    },
    {
      "cell_type": "code",
      "source": [
        "import math\n",
        "def jump_search (arr, target):\n",
        "  n = len(arr)\n",
        "  step = int(math.sqrt(n))\n",
        "  prev = 0\n",
        "\n",
        "  while arr[min (step, n) - 1] < target:\n",
        "    prev = step\n",
        "    step += int(math.sqrt (n))\n",
        "    if prev >= n:\n",
        "      return -1\n",
        "\n",
        "  for i in range(prev, min(step, n)):\n",
        "    if arr[i] == target:\n",
        "      return i\n",
        "  return -1\n",
        "\n",
        "#Gantilah dengan daftar nama teman-teman Anda dalam urutan alfabet\n",
        "arr = [\"Aldo\", \"Budi\", \"Dewi\", \"Lika\", \"Gita\", \"Indra\", \"Rina\", \"Tono\"]\n",
        "target = input(\"Masukkan inisial nama Anda: \")\n",
        "result = jump_search(arr, target)\n",
        "if result != -1:\n",
        "  print (f\"Elemen ditemukan pada indeks {result}\")\n",
        "else:\n",
        "  print(\"Elemen tidak ditemukan\")\n"
      ],
      "metadata": {
        "colab": {
          "base_uri": "https://localhost:8080/"
        },
        "id": "u5AAJ5yvYsS8",
        "outputId": "5b23b995-4f2e-4c67-ee95-dec8dfd82eaa"
      },
      "execution_count": 5,
      "outputs": [
        {
          "output_type": "stream",
          "name": "stdout",
          "text": [
            "Masukkan inisial nama Anda: Lika\n",
            "Elemen ditemukan pada indeks 3\n"
          ]
        }
      ]
    },
    {
      "cell_type": "code",
      "source": [
        "import random\n",
        "import math\n",
        "\n",
        "def linear_search(arr, target):\n",
        "  perbandingan = 0\n",
        "  for i in range(len(arr)):\n",
        "    perbandingan += 1\n",
        "    if arr[i] == target:\n",
        "      return i, perbandingan\n",
        "  return -1, perbandingan\n",
        "\n",
        "def binary_search(arr, target):\n",
        "  perbandingan = 0\n",
        "  low = 0\n",
        "  high = len(arr) - 1\n",
        "\n",
        "  while low <= high:\n",
        "    perbandingan += 1\n",
        "    mid = (low + high) // 2\n",
        "    if arr[mid] == target:\n",
        "      return mid, perbandingan\n",
        "    elif arr[mid] < target:\n",
        "      low = mid + 1\n",
        "    else:\n",
        "      high = mid - 1\n",
        "\n",
        "  return -1, perbandingan\n",
        "\n",
        "def jump_search (arr, target):\n",
        "  perbandingan = 0\n",
        "  n = len(arr)\n",
        "  step = int(math.sqrt(n))\n",
        "  prev = 0\n",
        "\n",
        "  while arr[min (step, n) - 1] < target:\n",
        "    perbandingan += 1\n",
        "    prev = step\n",
        "    step += int(math.sqrt (n))\n",
        "    if prev >= n:\n",
        "      return -1, perbandingan\n",
        "\n",
        "  for i in range(prev, min(step, n)):\n",
        "    perbandingan += 1\n",
        "    if arr[i] == target:\n",
        "      return i, perbandingan\n",
        "  return -1, perbandingan\n",
        "\n",
        "arr = random.sample(range(1, 1001), 100)\n",
        "arr_sorted = sorted(arr)\n",
        "print(\"daftar angaka  terurut :\", arr_sorted)\n",
        "target = int(input(\"Masukkan angka yang ingin dicari: \"))\n",
        "\n",
        "linear_result, linear_perbandingan = linear_search(arr, target)\n",
        "binary_result, binary_perbandingan = binary_search(arr_sorted, target)\n",
        "jump_result, jump_perbandingan = jump_search(arr_sorted, target)\n",
        "\n",
        "print(\"\\nHasil Linear Search:\")\n",
        "if linear_result != -1:\n",
        "  print(f\"Elemen ditemukan pada indeks {linear_result}\")\n",
        "  print(f\"Jumlah perbandingan: {linear_perbandingan}\")\n",
        "else:\n",
        "  print(\"Elemen tidak ditemukan\")\n",
        "\n",
        "print(\"\\nHasil Binary Search:\")\n",
        "if binary_result != -1:\n",
        "  print(f\"Elemen ditemukan pada indeks {binary_result}\")\n",
        "  print(f\"Jumlah perbandingan: {binary_perbandingan}\")\n",
        "else:\n",
        "  print(\"Elemen tidak ditemukan\")\n",
        "\n",
        "print(\"\\nHasil Jump Search:\")\n",
        "if jump_result != -1:\n",
        "  print(f\"Elemen ditemukan pada indeks {jump_result}\")\n",
        "  print(f\"Jumlah perbandingan: {jump_perbandingan}\")\n",
        "else:\n",
        "  print(\"Elemen tidak ditemukan\")"
      ],
      "metadata": {
        "colab": {
          "base_uri": "https://localhost:8080/"
        },
        "id": "gRihtm8GmscO",
        "outputId": "0b4d01e1-188f-4130-e243-8cd3d5b2d2eb"
      },
      "execution_count": 1,
      "outputs": [
        {
          "output_type": "stream",
          "name": "stdout",
          "text": [
            "daftar angaka  terurut : [7, 24, 28, 29, 52, 53, 78, 95, 100, 106, 109, 111, 141, 152, 155, 168, 176, 179, 188, 195, 201, 242, 261, 264, 277, 289, 294, 326, 346, 356, 358, 369, 384, 388, 397, 406, 408, 415, 427, 442, 447, 454, 480, 500, 501, 506, 515, 532, 546, 558, 570, 573, 574, 578, 580, 582, 583, 587, 595, 596, 597, 598, 599, 602, 623, 629, 659, 665, 681, 687, 693, 718, 724, 737, 757, 760, 764, 769, 774, 779, 787, 789, 797, 799, 819, 849, 854, 864, 870, 882, 891, 923, 925, 936, 941, 953, 971, 976, 985, 990]\n",
            "Masukkan angka yang ingin dicari: 176\n",
            "\n",
            "Hasil Linear Search:\n",
            "Elemen ditemukan pada indeks 12\n",
            "Jumlah perbandingan: 13\n",
            "\n",
            "Hasil Binary Search:\n",
            "Elemen ditemukan pada indeks 16\n",
            "Jumlah perbandingan: 7\n",
            "\n",
            "Hasil Jump Search:\n",
            "Elemen ditemukan pada indeks 16\n",
            "Jumlah perbandingan: 8\n"
          ]
        }
      ]
    }
  ]
}